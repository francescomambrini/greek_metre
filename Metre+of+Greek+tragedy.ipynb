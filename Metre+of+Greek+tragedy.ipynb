{
 "cells": [
  {
   "cell_type": "markdown",
   "metadata": {},
   "source": [
    "# Introduction"
   ]
  },
  {
   "cell_type": "markdown",
   "metadata": {},
   "source": [
    "The code here attempts to produce an automatic metrical analysis and syllabification (according to the prosody of Greek poetry) of a Greek tragedy. We start with the iambic trimeters in Euripides' Medea and we use the edition by Kovacs published in the [Perseus Digital Library](http://www.perseus.tufts.edu/hopper/text?doc=Perseus%3Atext%3A1999.01.0113%3Acard%3D1)"
   ]
  },
  {
   "cell_type": "code",
   "execution_count": 159,
   "metadata": {
    "collapsed": false
   },
   "outputs": [
    {
     "data": {
      "text/html": [
       "<table>\n",
       "<tr>\n",
       "<th style=\"border:0px;text-align:center;padding:0pt 10pt;background-color: #f2f2f2\">˘</th>\n",
       "<th style=\"border:0px;text-align:center;padding:0pt 10pt;background-color: #f2f2f2\">¯</th>\n",
       "<th style=\"border:0px;text-align:center;padding:0pt 10pt;background-color: #f2f2f2\">˘</th>\n",
       "<th style=\"border:0px;text-align:center;padding:0pt 10pt;background-color: #f2f2f2\">¯</th>\n",
       "<th style=\"border:0px;text-align:center;padding:0pt 10pt;background-color: #f2f2f2\">˘</th>\n",
       "<th style=\"border:0px;text-align:center;padding:0pt 10pt;background-color: #f2f2f2\">¯</th>\n",
       "<th style=\"border:0px;text-align:center;padding:0pt 10pt;background-color: #f2f2f2\">˘</th>\n",
       "<th style=\"border:0px;text-align:center;padding:0pt 10pt;background-color: #f2f2f2\">¯</th>\n",
       "<th style=\"border:0px;text-align:center;padding:0pt 10pt;background-color: #f2f2f2\">˘</th>\n",
       "<th style=\"border:0px;text-align:center;padding:0pt 10pt;background-color: #f2f2f2\">¯</th>\n",
       "<th style=\"border:0px;text-align:center;padding:0pt 10pt;background-color: #f2f2f2\">˘</th>\n",
       "<th style=\"border:0px;text-align:center;padding:0pt 10pt;background-color: #f2f2f2\">x</th></tr>\n",
       "<tr>\n",
       "<td style='border:0px;text-align:center;padding : 0pt 10pt;'>φί</td>\n",
       "<td style='border:0px;text-align:center;padding : 0pt 10pt;'>λων</td>\n",
       "<td style='border:0px;text-align:center;padding : 0pt 10pt;'>τε</td>\n",
       "<td style='border:0px;text-align:center;padding : 0pt 10pt;'>τῶν</td>\n",
       "<td style='border:0px;text-align:center;padding : 0pt 10pt;'>πρὶ</td>\n",
       "<td style='border:0px;text-align:center;padding : 0pt 10pt;'>νἀμ</td>\n",
       "<td style='border:0px;text-align:center;padding : 0pt 10pt;'>πλα</td>\n",
       "<td style='border:0px;text-align:center;padding : 0pt 10pt;'>κοῦ</td>\n",
       "<td style='border:0px;text-align:center;padding : 0pt 10pt;'>σα</td>\n",
       "<td style='border:0px;text-align:center;padding : 0pt 10pt;'>καὶ</td>\n",
       "<td style='border:0px;text-align:center;padding : 0pt 10pt;'>πά</td>\n",
       "<td style='border:0px;text-align:center;padding : 0pt 10pt;'>τρας</td>\n",
       "</tr>\n",
       "</table>\n",
       "    "
      ],
      "text/plain": [
       "<IPython.core.display.HTML object>"
      ]
     },
     "execution_count": 159,
     "metadata": {},
     "output_type": "execute_result"
    }
   ],
   "source": [
    "h = scan2html(syllMetre(l11),scanner.scan_text(l11+'\\n')[0])\n",
    "HTML(h)"
   ]
  },
  {
   "cell_type": "code",
   "execution_count": 117,
   "metadata": {
    "collapsed": false,
    "init_cell": true
   },
   "outputs": [],
   "source": [
    "from cltk.corpus.utils.importer import CorpusImporter\n",
    "import cltk"
   ]
  },
  {
   "cell_type": "code",
   "execution_count": 118,
   "metadata": {
    "collapsed": false,
    "init_cell": true
   },
   "outputs": [],
   "source": [
    "import greek_accentuation\n",
    "from greek_accentuation.characters import base\n",
    "from greek_accentuation import syllabify"
   ]
  },
  {
   "cell_type": "code",
   "execution_count": 119,
   "metadata": {
    "collapsed": false,
    "init_cell": true
   },
   "outputs": [],
   "source": [
    "import requests\n",
    "from lxml import etree\n",
    "import re\n",
    "import os"
   ]
  },
  {
   "cell_type": "code",
   "execution_count": 120,
   "metadata": {
    "collapsed": true,
    "init_cell": true
   },
   "outputs": [],
   "source": [
    "from cltk.prosody.greek.scanner import Scansion"
   ]
  },
  {
   "cell_type": "code",
   "execution_count": 121,
   "metadata": {
    "collapsed": true,
    "init_cell": true
   },
   "outputs": [],
   "source": [
    "import pyCTS"
   ]
  },
  {
   "cell_type": "markdown",
   "metadata": {},
   "source": [
    "# Load the text"
   ]
  },
  {
   "cell_type": "code",
   "execution_count": 122,
   "metadata": {
    "collapsed": false
   },
   "outputs": [],
   "source": [
    "x = etree.parse(\"/Users/fmambrini/cltk_data/canonical_protected-master/CTS_XML_TEI/perseus/greekLit/tlg0006/tlg003/tlg0006.tlg003.perseus-grc1.xml\")"
   ]
  },
  {
   "cell_type": "markdown",
   "metadata": {},
   "source": [
    "First, we load some text. We fetch the first few lines of the *Medea* from the xml in Perseus\n",
    "\n",
    "(Eur. *Medea* is not available in the Perseus GitHub repo.)"
   ]
  },
  {
   "cell_type": "code",
   "execution_count": 123,
   "metadata": {
    "collapsed": false
   },
   "outputs": [],
   "source": [
    "x = etree.parse(\"http://www.perseus.tufts.edu/hopper/xmlchunk?doc=Perseus%3Atext%3A1999.01.0113%3Acard%3D1\")"
   ]
  },
  {
   "cell_type": "code",
   "execution_count": 124,
   "metadata": {
    "collapsed": false
   },
   "outputs": [],
   "source": [
    "txt = x.xpath(\"//l/text()\")\n",
    "lines = x.xpath(\"//l\")"
   ]
  },
  {
   "cell_type": "code",
   "execution_count": 125,
   "metadata": {
    "collapsed": false
   },
   "outputs": [
    {
     "name": "stdout",
     "output_type": "stream",
     "text": [
      "Εἴθ᾽ ὤφελ᾽ Ἀργοῦς μὴ διαπτάσθαι σκάφος\n",
      "Κόλχων ἐς αἶαν κυανέας Συμπληγάδας,\n",
      "μηδ᾽ ἐν νάπαισι Πηλίου πεσεῖν ποτε\n",
      "τμηθεῖσα πεύκη, μηδ᾽ ἐρετμῶσαι χέρας\n",
      "ἀνδρῶν ἀριστέων οἳ τὸ πάγχρυσον δέρος\n",
      "Πελίᾳ μετῆλθον. οὐ γὰρ ἂν δέσποιν᾽ ἐμὴ\n",
      "Μήδεια πύργους γῆς ἔπλευσ᾽ Ἰωλκίας\n",
      "ἔρωτι θυμὸν ἐκπλαγεῖσ᾽ Ἰάσονος:\n",
      "οὐδ᾽ ἂν κτανεῖν πείσασα Πελιάδας κόρας\n",
      "πατέρα κατῴκει τήνδε γῆν Κορινθίαν\n",
      "<φίλων τε τῶν πρὶν ἀμπλακοῦσα καὶ πάτρας.>\n",
      "<καὶ πρὶν μὲν εἶχε κἀνθάδ᾽ οὐ μεμπτὸν βίον>\n",
      "ξὺν ἀνδρὶ καὶ τέκνοισιν, ἁνδάνουσα μὲν\n",
      "φυγὰς πολίταις ὧν ἀφίκετο χθόνα\n",
      "αὐτῷ  τε πάντα ξυμφέρουσ᾽ Ἰάσονι:\n",
      "ἥπερ μεγίστη γίγνεται σωτηρία,\n",
      "ὅταν γυνὴ πρὸς ἄνδρα μὴ διχοστατῇ.\n",
      "νῦν δ᾽ ἐχθρὰ πάντα, καὶ νοσεῖ τὰ φίλτατα.\n",
      "προδοὺς γὰρ αὑτοῦ τέκνα δεσπότιν τ᾽ ἐμὴν\n",
      "γάμοις Ἰάσων βασιλικοῖς εὐνάζεται,\n",
      "γήμας Κρέοντος παῖδ᾽, ὃς αἰσυμνᾷ χθονός.\n",
      "Μήδεια δ᾽ ἡ δύστηνος ἠτιμασμένη\n",
      "βοᾷ μὲν ὅρκους, ἀνακαλεῖ δὲ δεξιᾶς\n",
      "πίστιν μεγίστην, καὶ θεοὺς μαρτύρεται\n",
      "οἵας ἀμοιβῆς ἐξ Ἰάσονος κυρεῖ.\n",
      "κεῖται δ᾽ ἄσιτος, σῶμ᾽ ὑφεῖσ᾽ ἀλγηδόσιν,\n",
      "τὸν πάντα συντήκουσα δακρύοις χρόνον\n",
      "ἐπεὶ πρὸς ἀνδρὸς ᾔσθετ᾽ ἠδικημένη,\n",
      "οὔτ᾽ ὄμμ᾽ ἐπαίρουσ᾽ οὔτ᾽ ἀπαλλάσσουσα γῆς\n",
      "πρόσωπον: ὡς δὲ πέτρος ἢ θαλάσσιος\n",
      "κλύδων ἀκούει νουθετουμένη φίλων,\n",
      "ἢν μή ποτε στρέψασα πάλλευκον δέρην\n",
      "αὐτὴ πρὸς αὑτὴν πατέρ᾽ ἀποιμώξῃ φίλον\n",
      "καὶ γαῖαν οἴκους θ᾽, οὓς προδοῦσ᾽ ἀφίκετο\n",
      "μετ᾽ ἀνδρὸς ὅς σφε νῦν ἀτιμάσας ἔχει.\n",
      "ἔγνωκε δ᾽ ἡ τάλαινα συμφορᾶς ὕπο\n",
      "οἷον πατρῴας μὴ ἀπολείπεσθαι χθονός.\n",
      "στυγεῖ δὲ παῖδας οὐδ᾽ ὁρῶσ᾽ εὐφραίνεται.\n",
      "δέδοικα δ᾽ αὐτὴν μή τι βουλεύσῃ νέον:\n",
      "βαρεῖα γὰρ φρήν, οὐδ᾽ ἀνέξεται κακῶς\n",
      "πάσχουσ᾽ （ἐγᾦδα τήνδε） δειμαίνω τέ νιν\n",
      "μὴ θηκτὸν ὤσῃ φάσγανον δι᾽ ἥπατος\n",
      "[σιγῇ δόμους εἰσβᾶσ᾽, ἵν᾽ ἔστρωται λέχος,]\n",
      "ἢ καὶ τυράννους τόν τε γήμαντα κτάνῃ\n",
      "κἄπειτα μείζω συμφορὰν λάβῃ τινά.\n",
      "δεινὴ γάρ: οὔτοι ῥᾳδίως γε συμβαλὼν\n",
      "ἔχθραν τις αὐτῇ καλλίνικος ᾁσεται.\n",
      "ἀλλ᾽ οἵδε παῖδες ἐκ τρόχων πεπαυμένοι\n",
      "στείχουσι, μητρὸς οὐδὲν ἐννοούμενοι\n",
      "κακῶν: νέα γὰρ φροντὶς οὐκ ἀλγεῖν φιλεῖ.\n"
     ]
    }
   ],
   "source": [
    "for l in lines:\n",
    "    print(l.xpath(\"text()\")[0])"
   ]
  },
  {
   "cell_type": "markdown",
   "metadata": {
    "collapsed": false
   },
   "source": [
    "# Syllabify and scan the text"
   ]
  },
  {
   "cell_type": "code",
   "execution_count": 126,
   "metadata": {
    "collapsed": false
   },
   "outputs": [
    {
     "name": "stdout",
     "output_type": "stream",
     "text": [
      "Εἴθ᾽ ὤφελ᾽ Ἀργοῦς μὴ διαπτάσθαι σκάφος\n"
     ]
    }
   ],
   "source": [
    "l = lines[0].xpath(\"text()\")[0]\n",
    "print(l)"
   ]
  },
  {
   "cell_type": "markdown",
   "metadata": {},
   "source": [
    "We start our exploration of scanning Greek poetry using the scansion module of CLTK"
   ]
  },
  {
   "cell_type": "code",
   "execution_count": 127,
   "metadata": {
    "collapsed": true
   },
   "outputs": [],
   "source": [
    "scanner = Scansion()"
   ]
  },
  {
   "cell_type": "markdown",
   "metadata": {},
   "source": [
    "First, however we have to work around the specific design choice of the module, which is not fit to work with poetry...\n",
    "\n",
    "(We started some discussion about it, as you can see [here](https://github.com/cltk/cltk/issues/447))"
   ]
  },
  {
   "cell_type": "code",
   "execution_count": 373,
   "metadata": {
    "collapsed": false
   },
   "outputs": [],
   "source": [
    "scanner.punc_stops = [\"\\n\"]"
   ]
  },
  {
   "cell_type": "code",
   "execution_count": 374,
   "metadata": {
    "collapsed": false
   },
   "outputs": [],
   "source": [
    "scanner.punc.append(\".\")"
   ]
  },
  {
   "cell_type": "code",
   "execution_count": 375,
   "metadata": {
    "collapsed": false
   },
   "outputs": [
    {
     "data": {
      "text/plain": [
       "['˘¯˘˘¯¯˘¯˘¯˘x']"
      ]
     },
     "execution_count": 375,
     "metadata": {},
     "output_type": "execute_result"
    }
   ],
   "source": [
    "scanner.scan_text(l+\"\\n\")"
   ]
  },
  {
   "cell_type": "markdown",
   "metadata": {},
   "source": [
    "The fact is that the scansion module was designed to scan prose. It works by taking a chunk of text (or even a whole text), tokenizing it at sentence-final punctuation and then it returns a list of metrical patterns. That doesn't work for poetry, where syntactic breaks hardly coincide with metrical units.\n",
    "\n",
    "Also, I think the work on poetry may procede line by line. So we changed the behavior of the class: it now tokenizes using the new line return (\\n) and strips the period like all the other punctuation marks"
   ]
  },
  {
   "cell_type": "markdown",
   "metadata": {},
   "source": [
    "Now the scanner behaves as we expect, but a minor problem is that the syllabification that it uses (although effective for scanning) is not very good to show what's going on metrically.\n",
    "\n",
    "I like the syllabified version that can be obtained with J. Tauber's Sillabify library from [Greek Accentuation](https://github.com/jtauber/greek-accentuation/blob/master/docs.rst). CLTK's Scansion has also a sillabify (hidden) method, but its algorithm works by putting consonants together at the following syllable's onset, which is practical, but less useful for teaching metre."
   ]
  },
  {
   "cell_type": "markdown",
   "metadata": {},
   "source": [
    "This is what the hidden methods of CLTK Scansion produces"
   ]
  },
  {
   "cell_type": "code",
   "execution_count": 355,
   "metadata": {
    "collapsed": false
   },
   "outputs": [
    {
     "data": {
      "text/plain": [
       "[[['κα', 'κων:'],\n",
       "  ['νε', 'α'],\n",
       "  ['γαρ'],\n",
       "  ['φρο', 'ντις'],\n",
       "  ['ουκ'],\n",
       "  ['α', 'λγεῖν'],\n",
       "  ['φι', 'λεῖ']]]"
      ]
     },
     "execution_count": 355,
     "metadata": {},
     "output_type": "execute_result"
    }
   ],
   "source": [
    "scanner._make_syllables(l+\"\\n\")"
   ]
  },
  {
   "cell_type": "markdown",
   "metadata": {},
   "source": [
    "Intead, if we use CLTK Scansion's hidden methods to clear the text from diacritics and punctuation, the result can be passed to Sillabify to get a good (or at least, plausible: some difficult scansion must be corrected) metrical analysis:"
   ]
  },
  {
   "cell_type": "code",
   "execution_count": 356,
   "metadata": {
    "collapsed": false
   },
   "outputs": [],
   "source": [
    "tok = scanner._tokenize(l+\"\\n\")"
   ]
  },
  {
   "cell_type": "markdown",
   "metadata": {},
   "source": [
    "First, we need to create a single, continuous string in what in Greek parlance is known as **synapheia**"
   ]
  },
  {
   "cell_type": "code",
   "execution_count": 357,
   "metadata": {
    "collapsed": false
   },
   "outputs": [
    {
     "name": "stdout",
     "output_type": "stream",
     "text": [
      "κακων:νεαγαρφροντιςουκαλγεῖνφιλεῖ.\n"
     ]
    }
   ],
   "source": [
    "s = \"\".join(tok[0])\n",
    "print(s)"
   ]
  },
  {
   "cell_type": "code",
   "execution_count": 358,
   "metadata": {
    "collapsed": false
   },
   "outputs": [
    {
     "data": {
      "text/plain": [
       "['κα',\n",
       " 'κων:',\n",
       " 'νε',\n",
       " 'α',\n",
       " 'γαρ',\n",
       " 'φρον',\n",
       " 'τι',\n",
       " 'ςου',\n",
       " 'καλ',\n",
       " 'γεῖν',\n",
       " 'φι',\n",
       " 'λεῖ.']"
      ]
     },
     "execution_count": 358,
     "metadata": {},
     "output_type": "execute_result"
    }
   ],
   "source": [
    "syllabify.syllabify(s)"
   ]
  },
  {
   "cell_type": "markdown",
   "metadata": {},
   "source": [
    "That's much better (except for διάπτασθαι)! The probles are due to the fact that the greek_accentuation module works with the ordinary scansion rules: every consonant cluster that can be found at word's onset is groupped toegether. This doesn't work for poetic scansion, so we must override one meythod:"
   ]
  },
  {
   "cell_type": "code",
   "execution_count": 186,
   "metadata": {
    "collapsed": true,
    "init_cell": true
   },
   "outputs": [],
   "source": [
    "def is_valid_poetic_consonant_cluster(b, c):\n",
    "    s = base(b).lower() + (\"\".join(base(b2) for b2 in c)).lower()\n",
    "    return s.startswith((\n",
    "        \"γλ\", \"γρ\",\n",
    "        \"δρ\",\n",
    "        \"θλ\", \"θν\", \"θρ\", \"θμ\",\n",
    "        \"κλ\", \"κν\", \"κρ\",\n",
    "        \"πλ\", \"πν\", \"πρ\",\n",
    "        \"τρ\", \"τμ\", \"τν\",\n",
    "        \"φλ\", \"φρ\",\n",
    "        \"χλ\", \"χρ\",\n",
    "))"
   ]
  },
  {
   "cell_type": "code",
   "execution_count": 137,
   "metadata": {
    "collapsed": false,
    "init_cell": true
   },
   "outputs": [],
   "source": [
    "syllabify.is_valid_consonant_cluster = is_valid_poetic_consonant_cluster"
   ]
  },
  {
   "cell_type": "markdown",
   "metadata": {},
   "source": [
    "Let's see if the scansion is improved now"
   ]
  },
  {
   "cell_type": "code",
   "execution_count": 138,
   "metadata": {
    "collapsed": false
   },
   "outputs": [
    {
     "data": {
      "text/plain": [
       "['ει',\n",
       " 'θω',\n",
       " 'φε',\n",
       " 'λαρ',\n",
       " 'γοῦς',\n",
       " 'μη',\n",
       " 'δι',\n",
       " 'απ',\n",
       " 'τασ',\n",
       " 'θαισ',\n",
       " 'κα',\n",
       " 'φος.']"
      ]
     },
     "execution_count": 138,
     "metadata": {},
     "output_type": "execute_result"
    }
   ],
   "source": [
    "syllabify.syllabify(s)"
   ]
  },
  {
   "cell_type": "markdown",
   "metadata": {},
   "source": [
    "It's good! Now, let's see what we get if we chain CLTK's Scansion with Syllabify:"
   ]
  },
  {
   "cell_type": "code",
   "execution_count": 139,
   "metadata": {
    "collapsed": false
   },
   "outputs": [
    {
     "name": "stdout",
     "output_type": "stream",
     "text": [
      "ει ¯\n",
      "θω ¯\n",
      "φε ˘\n",
      "λαρ ¯\n",
      "γοῦς ¯\n",
      "μη ¯\n",
      "δι ˘\n",
      "απ ¯\n",
      "τασ ¯\n",
      "θαισ ¯\n",
      "κα ˘\n",
      "φος. x\n"
     ]
    }
   ],
   "source": [
    "for syll,scan in zip(syllabify.syllabify(s) ,list(scanner.scan_text(l+\"\\n\")[0])):\n",
    "    print(syll,scan)"
   ]
  },
  {
   "cell_type": "markdown",
   "metadata": {},
   "source": [
    "Which is good enough to start! However, as a result of our workaround with consonants, a bit of postprocessing is needed, in case a word starts with a consonant cluster other than *muta cum liquida*, or you'll get a consonant-only first syllables..."
   ]
  },
  {
   "cell_type": "markdown",
   "metadata": {},
   "source": [
    "Let's wrap this up in a few functions"
   ]
  },
  {
   "cell_type": "code",
   "execution_count": 187,
   "metadata": {
    "collapsed": true,
    "init_cell": true
   },
   "outputs": [],
   "source": [
    "def cleanStr(s):\n",
    "    reg = re.compile(r'[^\\w]')\n",
    "    return reg.sub(\"\", s)"
   ]
  },
  {
   "cell_type": "code",
   "execution_count": 201,
   "metadata": {
    "collapsed": true
   },
   "outputs": [],
   "source": [
    "def _isconsonantonly(st):\n",
    "    if syllabify.nucleus(st):\n",
    "        return False\n",
    "    else:\n",
    "        return True"
   ]
  },
  {
   "cell_type": "code",
   "execution_count": 212,
   "metadata": {
    "collapsed": true,
    "init_cell": true
   },
   "outputs": [],
   "source": [
    "def syllMetre(line):\n",
    "    l = line.rstrip(\"\\n\") + \"\\n\"\n",
    "    s = cleanStr(l)\n",
    "    syllables = syllabify.syllabify(s)\n",
    "    if _isconsonantonly(syllables[0]):\n",
    "        syllables[1] = syllables[0] + syllables[1]\n",
    "        syllables = syllables[1:]\n",
    "    return syllables"
   ]
  },
  {
   "cell_type": "code",
   "execution_count": 218,
   "metadata": {
    "collapsed": false
   },
   "outputs": [
    {
     "data": {
      "text/plain": [
       "['Εἴ', 'θὤ', 'φε', 'λἈρ', 'γοῦς', 'μὴ', 'δι', 'απ', 'τάσ', 'θαισ', 'κά', 'φος']"
      ]
     },
     "execution_count": 218,
     "metadata": {},
     "output_type": "execute_result"
    }
   ],
   "source": [
    "syllMetre(l)"
   ]
  },
  {
   "cell_type": "code",
   "execution_count": 189,
   "metadata": {
    "collapsed": true
   },
   "outputs": [],
   "source": [
    "syllables = syllMetre(l)"
   ]
  },
  {
   "cell_type": "code",
   "execution_count": 211,
   "metadata": {
    "collapsed": false
   },
   "outputs": [
    {
     "name": "stdout",
     "output_type": "stream",
     "text": [
      "True\n"
     ]
    }
   ],
   "source": [
    "sy = \"λρμθ\"\n",
    "print(_isconsonantonly(sy))\n",
    "syllabify.nucleus(sy)"
   ]
  },
  {
   "cell_type": "markdown",
   "metadata": {},
   "source": [
    "# CTS-URNs"
   ]
  },
  {
   "cell_type": "markdown",
   "metadata": {},
   "source": [
    "Ideally, I'd like to provide each syllable in our scanned text with a CTS-URN, so that our metrical analysis can always be linked to the text and to any other resource that we create from this text (e.g. treebanks)!\n",
    "\n",
    "We use Matteo Romanello's very practical porting of CTS specs to Python, the [pyCTS](https://github.com/mromanello/pyCTS) library"
   ]
  },
  {
   "cell_type": "code",
   "execution_count": 144,
   "metadata": {
    "collapsed": true
   },
   "outputs": [],
   "source": [
    "urn_base_string = \"urn:cts:greekLit:tlg0006.tlg003.perseus-grc1:{}#{}\""
   ]
  },
  {
   "cell_type": "markdown",
   "metadata": {},
   "source": [
    "We need however a method to map the preprocessed text (without spaces, diacritics etc) on the raw text. Therefore, we design a couple of functions that try to do that:"
   ]
  },
  {
   "cell_type": "code",
   "execution_count": 376,
   "metadata": {
    "collapsed": true,
    "init_cell": true
   },
   "outputs": [],
   "source": [
    "def matchOnStr(fullstr, syllables):\n",
    "    remain = fullstr\n",
    "    matches = []\n",
    "    for s in syllables:\n",
    "        m = partMatch(remain,s)\n",
    "        matches.append(m)\n",
    "        remain = remain.lstrip(m)\n",
    "    return matches\n",
    "        \n",
    "def partMatch(substr, syll):\n",
    "    r = ''\n",
    "    for s in syll:\n",
    "        r = r+s+r\"[^\\w]*\"\n",
    "    m = re.search(r, substr)\n",
    "    if m:\n",
    "        return m.group().rstrip(\" \")\n",
    "    else:\n",
    "        return \"\""
   ]
  },
  {
   "cell_type": "markdown",
   "metadata": {},
   "source": [
    "We also need to append an index to the reference, in case the substring we are trying to reference is popping up multiple times..."
   ]
  },
  {
   "cell_type": "code",
   "execution_count": 148,
   "metadata": {
    "collapsed": false,
    "init_cell": true
   },
   "outputs": [],
   "source": [
    "def _index(fullst, substr):\n",
    "    \"\"\"\n",
    "    checks the index of the provided substrings .\n",
    "    Indexing starts at 1 and always considers the last match: \"la\" in \"lala land\" returns la[3]\n",
    "    For the first match, consider slicing your full string differently...\n",
    "    \"\"\"\n",
    "    c = fullst.count(substr)\n",
    "    return \"{}[{}]\".format(substr,c)\n",
    "    \n",
    "\n",
    "def getCiteSubstring(syllables):\n",
    "    \"\"\"\n",
    "    Note: use it on the matched syllables\n",
    "    \"\"\"\n",
    "    i = 0\n",
    "    passages = []\n",
    "    for s in syllables:\n",
    "        p = []\n",
    "        if \" \" in s:\n",
    "            #split at whitespace\n",
    "            parts = s.split(\" \")\n",
    "            #loop over first and last part and index them\n",
    "            st = \"\".join(syllables[:i])\n",
    "            for part in [parts[0],parts[-1]]:\n",
    "                st = st + part\n",
    "                p.append(_index(st, part))\n",
    "        else:\n",
    "            p.append(_index(syllables[:i+1], s))\n",
    "        passages.append(p)\n",
    "        i +=1\n",
    "    return passages"
   ]
  },
  {
   "cell_type": "code",
   "execution_count": 149,
   "metadata": {
    "collapsed": false
   },
   "outputs": [],
   "source": [
    "l11 = \"<φίλων τε τῶν πρὶν ἀμπλακοῦσα καὶ πάτρας.>\"\n",
    "l1 = \"Εἴθ᾽ ὤφελ᾽ Ἀργοῦς μὴ διαπτάσθαι σκάφος\"\n",
    "syls = syllMetre(l11)"
   ]
  },
  {
   "cell_type": "code",
   "execution_count": 150,
   "metadata": {
    "collapsed": false
   },
   "outputs": [],
   "source": [
    "matched_syll = matchOnStr(l11, syls)"
   ]
  },
  {
   "cell_type": "code",
   "execution_count": 151,
   "metadata": {
    "collapsed": false
   },
   "outputs": [
    {
     "data": {
      "text/plain": [
       "['φί',\n",
       " 'λων',\n",
       " 'τε',\n",
       " 'τῶν',\n",
       " 'πρὶ',\n",
       " 'ν ἀμ',\n",
       " 'πλα',\n",
       " 'κοῦ',\n",
       " 'σα',\n",
       " 'καὶ',\n",
       " 'πά',\n",
       " 'τρας.>']"
      ]
     },
     "execution_count": 151,
     "metadata": {},
     "output_type": "execute_result"
    }
   ],
   "source": [
    "matched_syll"
   ]
  },
  {
   "cell_type": "code",
   "execution_count": 152,
   "metadata": {
    "collapsed": false
   },
   "outputs": [
    {
     "data": {
      "text/plain": [
       "[['φί[1]'],\n",
       " ['λων[1]'],\n",
       " ['τε[1]'],\n",
       " ['τῶν[1]'],\n",
       " ['πρὶ[1]'],\n",
       " ['ν[3]', 'ἀμ[1]'],\n",
       " ['πλα[1]'],\n",
       " ['κοῦ[1]'],\n",
       " ['σα[1]'],\n",
       " ['καὶ[1]'],\n",
       " ['πά[1]'],\n",
       " ['τρας.>[1]']]"
      ]
     },
     "execution_count": 152,
     "metadata": {},
     "output_type": "execute_result"
    }
   ],
   "source": [
    "getCiteSubstring(matched_syll)"
   ]
  },
  {
   "cell_type": "markdown",
   "metadata": {},
   "source": [
    "It's time now to generate a CTS URN for each of the syllables! Let's wrap it up in one function that:\n",
    "\n",
    "* matches the syllabified text on the raw text\n",
    "* append the indexes for each syllables\n",
    "* write a cts urn"
   ]
  },
  {
   "cell_type": "code",
   "execution_count": 302,
   "metadata": {
    "collapsed": false,
    "init_cell": true
   },
   "outputs": [],
   "source": [
    "def createCTS_URNs(syllables, linetxt, edurn, linenum):\n",
    "    matched = [m.replace(\":\", \"\") for m in matchOnStr(linetxt, syllables)]\n",
    "    substr = getCiteSubstring(matched)\n",
    "    urns = []\n",
    "    for s in substr:\n",
    "        #if there's no space\n",
    "        if len(s) == 1:\n",
    "            urn = pyCTS.CTS_URN(edurn + \":{}@{}\".format(linenum, s[0]))\n",
    "        else:\n",
    "            sub_range = \"{0}@{1}-{0}@{2}\".format(linenum, s[0], s[1]) #1@λ᾽[1]-1@Ἀρ[1]\n",
    "            urn = pyCTS.CTS_URN(edurn + \":\" + sub_range)\n",
    "        urns.append(urn)\n",
    "    return urns"
   ]
  },
  {
   "cell_type": "code",
   "execution_count": 154,
   "metadata": {
    "collapsed": false
   },
   "outputs": [
    {
     "data": {
      "text/plain": [
       "[urn:cts:greekLit:tlg0006.tlg003.perseus-grc1:11@φί[1],\n",
       " urn:cts:greekLit:tlg0006.tlg003.perseus-grc1:11@λων[1],\n",
       " urn:cts:greekLit:tlg0006.tlg003.perseus-grc1:11@τε[1],\n",
       " urn:cts:greekLit:tlg0006.tlg003.perseus-grc1:11@τῶν[1],\n",
       " urn:cts:greekLit:tlg0006.tlg003.perseus-grc1:11@πρὶ[1],\n",
       " urn:cts:greekLit:tlg0006.tlg003.perseus-grc1:11@ν[3]-11@ἀμ[1],\n",
       " urn:cts:greekLit:tlg0006.tlg003.perseus-grc1:11@πλα[1],\n",
       " urn:cts:greekLit:tlg0006.tlg003.perseus-grc1:11@κοῦ[1],\n",
       " urn:cts:greekLit:tlg0006.tlg003.perseus-grc1:11@σα[1],\n",
       " urn:cts:greekLit:tlg0006.tlg003.perseus-grc1:11@καὶ[1],\n",
       " urn:cts:greekLit:tlg0006.tlg003.perseus-grc1:11@πά[1],\n",
       " urn:cts:greekLit:tlg0006.tlg003.perseus-grc1:11@τρας.>[1]]"
      ]
     },
     "execution_count": 154,
     "metadata": {},
     "output_type": "execute_result"
    }
   ],
   "source": [
    "createCTS_URNs(syllMetre(l11), l11, \"urn:cts:greekLit:tlg0006.tlg003.perseus-grc1\", \"11\")"
   ]
  },
  {
   "cell_type": "markdown",
   "metadata": {},
   "source": [
    "# Display the scanned lines"
   ]
  },
  {
   "cell_type": "markdown",
   "metadata": {},
   "source": [
    "We display the scansion of the syllables in a nice html table"
   ]
  },
  {
   "cell_type": "code",
   "execution_count": 155,
   "metadata": {
    "collapsed": true
   },
   "outputs": [],
   "source": [
    "from IPython.display import HTML"
   ]
  },
  {
   "cell_type": "code",
   "execution_count": 160,
   "metadata": {
    "collapsed": true,
    "init_cell": true
   },
   "outputs": [],
   "source": [
    "def scan2html(syllabs, scan,style=True):\n",
    "    html = '''<table>\n",
    "<tr>'''\n",
    "    if style:\n",
    "        scanstyle = ' style=\"border:0px;text-align:center;padding:0pt 10pt;background-color: #f2f2f2\"'\n",
    "        syllstyle = \" style='border:0px;text-align:center;padding : 0pt 10pt;'\"\n",
    "    else:\n",
    "        scanstyle,syllstyle = ('','')\n",
    "    scans = [s for s in scan]\n",
    "    assert len(scan) == len(syllabs), \"Scan and syllables do not match!\"\n",
    "    for sc in scans:\n",
    "        html = html + '\\n<th{}>{}</th>'.format(scanstyle, sc)\n",
    "    html = html + \"</tr>\\n<tr>\"\n",
    "    for sy in syllabs:\n",
    "        html = html + \"\\n<td{}>{}</td>\".format(syllstyle,sy)\n",
    "        \n",
    "    html = html + '''\\n</tr>\n",
    "</table>\n",
    "    '''\n",
    "    return html"
   ]
  },
  {
   "cell_type": "markdown",
   "metadata": {},
   "source": [
    "# Wrapping it up "
   ]
  },
  {
   "cell_type": "markdown",
   "metadata": {},
   "source": [
    "As it turns out that there are also couple of bugs that we have to correct in the Scansion class, it's partical to write those modifications in a subclass that overrides whatever we'd like to override in the Scansion. We'll call it **PoetryScansion**.\n",
    "\n",
    "We'll also create a special method to scan a line, and add one that includes the syllabification and add the method to display scansions and syllables as an html table"
   ]
  },
  {
   "cell_type": "markdown",
   "metadata": {},
   "source": [
    "## A new Scansion class"
   ]
  },
  {
   "cell_type": "code",
   "execution_count": 319,
   "metadata": {
    "collapsed": false,
    "init_cell": true
   },
   "outputs": [],
   "source": [
    "class PoetryScansion( Scansion ) :\n",
    "    \"\"\"\n",
    "    Override a few properties and methods of cltk.greek.scansion\n",
    "    \"\"\"\n",
    "\n",
    "    def __init__(self):\n",
    "        super(PoetryScansion, self).__init__()\n",
    "        self.punc_stops = [\"\\n\"]\n",
    "        self.punc = self.punc + [\".\", \"<\", \">\"]        \n",
    "    \n",
    "    def _clean_accents(self, text):\n",
    "        \"\"\"Remove most accent marks.\n",
    "        Note that the circumflexes over alphas and iotas in the text since\n",
    "        they determine vocalic quantity.\n",
    "        :param text: raw text\n",
    "        :return: clean text with minimum accent marks\n",
    "        :rtype : string\n",
    "        \"\"\"\n",
    "        accents = {\n",
    "            'ὲέἐἑἒἓἕἔ': 'ε',\n",
    "            'ὺύὑὐὒὓὔὕ': 'υ',\n",
    "            'ὸόὀὁὂὃὄὅ': 'ο',\n",
    "            'ὶίἰἱἲἳἵἴ': 'ι',\n",
    "            'ὰάἁἀἂἃἅἄᾳᾂᾃᾁ': 'α',\n",
    "            'ὴήἠἡἢἣἥἤἧἦῆῄῂῇῃᾓᾒᾗᾖᾑᾐᾔ': 'η',\n",
    "            'ὼώὠὡὢὣὤὥὦὧῶῲῴῷῳᾧᾦᾢᾣᾡᾠ': 'ω',\n",
    "            'ἶἷ': 'ῖ',\n",
    "            'ἆἇᾷᾆᾇ': 'ᾶ',\n",
    "            'ὖὗ': 'ῦ',\n",
    "            }\n",
    "        text = self._clean_text(text)\n",
    "        for char in text:\n",
    "            for key in accents.keys():\n",
    "                if char in key:\n",
    "                    text = text.replace(char, accents.get(key))\n",
    "                else:\n",
    "                    pass\n",
    "        return text\n",
    "    \n",
    "    def scan_line(self, line):\n",
    "        \"\"\"\n",
    "        Scan a single line of poetry\n",
    "        :param line: the line to scan\n",
    "        :return: a list with the scansion\n",
    "        \"\"\"\n",
    "        \n",
    "        #makes sure that the line ends with a line break, but no more than 1 line break\n",
    "        l = line.rstrip(\"\\n\") + \"\\n\"\n",
    "        return list(self.scan_text(l)[0])\n",
    "    \n",
    "    def _isconsonantonly(self, st):\n",
    "        if syllabify.nucleus(st):\n",
    "            return False\n",
    "        else:\n",
    "            return True\n",
    "    \n",
    "    def _cleanStr(self, s):\n",
    "        reg = re.compile(r'[^\\w]')\n",
    "        return reg.sub(\"\", s)\n",
    "    \n",
    "    def get_metrical_syllables(self, line):\n",
    "        s = self._cleanStr(line)\n",
    "        syllables = syllabify.syllabify(s)\n",
    "        if self._isconsonantonly(syllables[0]):\n",
    "            syllables[1] = syllables[0] + syllables[1]\n",
    "            syllables = syllables[1:]\n",
    "        return syllables\n",
    "    \n",
    "    def scan2html(self, syllabs, scan, style=True):\n",
    "        \"\"\"Format scansion and syllables as an html table\n",
    "        :param syllabs: list of syllables\n",
    "        :param scan: list of scansions\n",
    "        :style: (optional) if True, style instructions are added to every <th> and <td>; useful for Jupyter Notebooks\n",
    "        :raise: AssertionError if scnas and syllables are not of the same length\n",
    "        :return: string with <table> element\n",
    "        \"\"\"\n",
    "        \n",
    "        html = '''<table>\n",
    "        <tr>'''\n",
    "        if style:\n",
    "            scanstyle = ' style=\"border:0px;text-align:center;padding:0pt 10pt;background-color: #f2f2f2\"'\n",
    "            syllstyle = \" style='border:0px;text-align:center;padding : 0pt 10pt;'\"\n",
    "        else:\n",
    "            scanstyle,syllstyle = ('','')\n",
    "        scans = list(scan)\n",
    "        assert len(scan) == len(syllabs), \"Scan and syllables do not match!\\nLine: {}\".format(\"\".join(syllabs))\n",
    "        for sc in scans:\n",
    "            html = html + '\\n<th{}>{}</th>'.format(scanstyle, sc)\n",
    "        html = html + \"</tr>\\n<tr>\"\n",
    "        for sy in syllabs:\n",
    "            html = html + \"\\n<td{}>{}</td>\".format(syllstyle,sy)\n",
    "\n",
    "        html = html + '''\\n</tr>\n",
    "        </table>\n",
    "        '''\n",
    "        return html"
   ]
  },
  {
   "cell_type": "code",
   "execution_count": 289,
   "metadata": {
    "collapsed": true
   },
   "outputs": [],
   "source": [
    "scanner = PoetryScansion()"
   ]
  },
  {
   "cell_type": "code",
   "execution_count": 290,
   "metadata": {
    "collapsed": false
   },
   "outputs": [
    {
     "data": {
      "text/plain": [
       "['τμη', 'θεῖ', 'σα', 'πεύ', 'κη', 'μη', 'δἐ', 'ρετ', 'μῶ', 'σαι', 'χέ', 'ρας']"
      ]
     },
     "execution_count": 290,
     "metadata": {},
     "output_type": "execute_result"
    }
   ],
   "source": [
    "sylls = scanner.get_metrical_syllables(txt[3])\n",
    "sylls"
   ]
  },
  {
   "cell_type": "code",
   "execution_count": 291,
   "metadata": {
    "collapsed": false
   },
   "outputs": [
    {
     "data": {
      "text/plain": [
       "['¯', '¯', '˘', '¯', '¯', '¯', '˘', '˘', '¯', '¯', '˘', 'x']"
      ]
     },
     "execution_count": 291,
     "metadata": {},
     "output_type": "execute_result"
    }
   ],
   "source": [
    "scan = scanner.scan_line(txt[3])\n",
    "scan"
   ]
  },
  {
   "cell_type": "code",
   "execution_count": 293,
   "metadata": {
    "collapsed": false
   },
   "outputs": [
    {
     "data": {
      "text/html": [
       "<table>\n",
       "        <tr>\n",
       "<th style=\"border:0px;text-align:center;padding:0pt 10pt;background-color: #f2f2f2\">¯</th>\n",
       "<th style=\"border:0px;text-align:center;padding:0pt 10pt;background-color: #f2f2f2\">¯</th>\n",
       "<th style=\"border:0px;text-align:center;padding:0pt 10pt;background-color: #f2f2f2\">˘</th>\n",
       "<th style=\"border:0px;text-align:center;padding:0pt 10pt;background-color: #f2f2f2\">¯</th>\n",
       "<th style=\"border:0px;text-align:center;padding:0pt 10pt;background-color: #f2f2f2\">¯</th>\n",
       "<th style=\"border:0px;text-align:center;padding:0pt 10pt;background-color: #f2f2f2\">¯</th>\n",
       "<th style=\"border:0px;text-align:center;padding:0pt 10pt;background-color: #f2f2f2\">˘</th>\n",
       "<th style=\"border:0px;text-align:center;padding:0pt 10pt;background-color: #f2f2f2\">˘</th>\n",
       "<th style=\"border:0px;text-align:center;padding:0pt 10pt;background-color: #f2f2f2\">¯</th>\n",
       "<th style=\"border:0px;text-align:center;padding:0pt 10pt;background-color: #f2f2f2\">¯</th>\n",
       "<th style=\"border:0px;text-align:center;padding:0pt 10pt;background-color: #f2f2f2\">˘</th>\n",
       "<th style=\"border:0px;text-align:center;padding:0pt 10pt;background-color: #f2f2f2\">x</th></tr>\n",
       "<tr>\n",
       "<td style='border:0px;text-align:center;padding : 0pt 10pt;'>τμη</td>\n",
       "<td style='border:0px;text-align:center;padding : 0pt 10pt;'>θεῖ</td>\n",
       "<td style='border:0px;text-align:center;padding : 0pt 10pt;'>σα</td>\n",
       "<td style='border:0px;text-align:center;padding : 0pt 10pt;'>πεύ</td>\n",
       "<td style='border:0px;text-align:center;padding : 0pt 10pt;'>κη</td>\n",
       "<td style='border:0px;text-align:center;padding : 0pt 10pt;'>μη</td>\n",
       "<td style='border:0px;text-align:center;padding : 0pt 10pt;'>δἐ</td>\n",
       "<td style='border:0px;text-align:center;padding : 0pt 10pt;'>ρετ</td>\n",
       "<td style='border:0px;text-align:center;padding : 0pt 10pt;'>μῶ</td>\n",
       "<td style='border:0px;text-align:center;padding : 0pt 10pt;'>σαι</td>\n",
       "<td style='border:0px;text-align:center;padding : 0pt 10pt;'>χέ</td>\n",
       "<td style='border:0px;text-align:center;padding : 0pt 10pt;'>ρας</td>\n",
       "</tr>\n",
       "        </table>\n",
       "        "
      ],
      "text/plain": [
       "<IPython.core.display.HTML object>"
      ]
     },
     "execution_count": 293,
     "metadata": {},
     "output_type": "execute_result"
    }
   ],
   "source": [
    "HTML(scanner.scan2html(sylls, scan))"
   ]
  },
  {
   "cell_type": "markdown",
   "metadata": {},
   "source": [
    "We can now procede to create a metrical analysis for the whole prologue."
   ]
  },
  {
   "cell_type": "markdown",
   "metadata": {},
   "source": [
    "## Main loop"
   ]
  },
  {
   "cell_type": "code",
   "execution_count": 295,
   "metadata": {
    "collapsed": false
   },
   "outputs": [],
   "source": [
    "txt = [l.xpath(\"text()\")[0] for l in lines]"
   ]
  },
  {
   "cell_type": "code",
   "execution_count": 321,
   "metadata": {
    "collapsed": false
   },
   "outputs": [],
   "source": [
    "scanner = PoetryScansion()\n",
    "tabs = []\n",
    "cts_urns = []\n",
    "i = 1\n",
    "for line in txt:\n",
    "    sylls = scanner.get_metrical_syllables(line)\n",
    "    scan = scanner.scan_line(line)\n",
    "    tab = scanner.scan2html(sylls, scan, style=False)\n",
    "    urn = createCTS_URNs(sylls, line, \"urn:cts:greekLit:tlg0006.tlg003.perseus-grc1\", str(i))\n",
    "    cts_urns.append(urn)\n",
    "    tabs.append(tab)\n",
    "    i += 1"
   ]
  },
  {
   "cell_type": "markdown",
   "metadata": {},
   "source": [
    "Now we write the output of our analysis of the prologue in two files:\n",
    "* an HTML file with the lines and the tables\n",
    "* a file the list of CTS URNS"
   ]
  },
  {
   "cell_type": "code",
   "execution_count": 353,
   "metadata": {
    "collapsed": false
   },
   "outputs": [],
   "source": [
    "with open(\"Medea_scansion.html\", \"w\") as out:\n",
    "    html = '''<!DOCTYPE html>\n",
    "<html lang=\"en\">\n",
    "<head>\n",
    "<meta http-equiv=\"Content-Type\" content=\"text/html; charset=utf-8\"/>\n",
    "<style>\n",
    "\n",
    "table {\n",
    "    border-collapse : collapse;\n",
    "    margin-bottom : 30pt;\n",
    "    margin-left: 20pt;\n",
    "    }\n",
    "\n",
    "th, td, table {\n",
    "    border-bottom: 1px solid black;\n",
    "    border-top: 1px solid black;\n",
    "    text-align: center;\n",
    "    padding:0pt 10pt\n",
    "}\n",
    "\n",
    "th { background-color: #f2f2f2 ;\n",
    "    padding-top:10pt;\n",
    "}\n",
    "\n",
    "p { \n",
    "    font-weight: bold;\n",
    "    }\n",
    "\n",
    "\n",
    "</style>\n",
    "</head>\n",
    "<body>\\n\n",
    "'''\n",
    "    i = 1\n",
    "    for l,tab in zip(txt,tabs):\n",
    "        html = html + \"<p>{}. {}<p>\\n{}\".format(str(i), l, tab)\n",
    "        i += 1\n",
    "    out.write(html)"
   ]
  },
  {
   "cell_type": "code",
   "execution_count": 372,
   "metadata": {
    "collapsed": false
   },
   "outputs": [],
   "source": [
    "with open(\"/Users/fmambrini/Desktop/Medea_Metrical_CTS.txt\", \"w\") as out:\n",
    "    for c in cts_urns:\n",
    "        for u in c:\n",
    "            out.write(u._as_string + \"\\n\")"
   ]
  },
  {
   "cell_type": "markdown",
   "metadata": {},
   "source": [
    "done for now!"
   ]
  },
  {
   "cell_type": "markdown",
   "metadata": {},
   "source": [
    "# To do"
   ]
  },
  {
   "cell_type": "markdown",
   "metadata": {},
   "source": [
    "* evaluate!\n",
    "* check which scans do not validate against all possible instances of the iambic trimeter"
   ]
  }
 ],
 "metadata": {
  "kernelspec": {
   "display_name": "Python 3",
   "language": "python",
   "name": "python3"
  },
  "language_info": {
   "codemirror_mode": {
    "name": "ipython",
    "version": 3
   },
   "file_extension": ".py",
   "mimetype": "text/x-python",
   "name": "python",
   "nbconvert_exporter": "python",
   "pygments_lexer": "ipython3",
   "version": "3.4.5"
  },
  "toc": {
   "colors": {
    "hover_highlight": "#DAA520",
    "running_highlight": "#FF0000",
    "selected_highlight": "#FFD700"
   },
   "moveMenuLeft": true,
   "nav_menu": {
    "height": "12px",
    "width": "252px"
   },
   "navigate_menu": true,
   "number_sections": true,
   "sideBar": true,
   "threshold": 4,
   "toc_cell": false,
   "toc_section_display": "block",
   "toc_window_display": true
  }
 },
 "nbformat": 4,
 "nbformat_minor": 2
}
